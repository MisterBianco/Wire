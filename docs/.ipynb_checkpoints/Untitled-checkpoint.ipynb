{
 "cells": [
  {
   "cell_type": "markdown",
   "metadata": {},
   "source": [
    "# Wire\n",
    "\n",
    "### The selenium wrapper from the __future__\n",
    "\n",
    "The library is meant to be super easy to use with alot of advanced features to make testing browsers easy.\n",
    "\n",
    "Currently the library is very small and doesn't do much magic, but there are lots of plans and features will include:\n",
    "\n",
    "- Jquery like accessor methods\n",
    "- Pygment based output\n",
    "- Better html parsing than native selenium\n",
    "- Helpful methods for accessing elements\n",
    "- Type checked functions\n",
    "- Interactive Documentation\n",
    "- Docker support\n",
    "- Excellent context support\n",
    "- Python3.7+\n",
    "- Poetry dependency management\n",
    "\n",
    "So lets see what we have so far"
   ]
  },
  {
   "cell_type": "code",
   "execution_count": 16,
   "metadata": {},
   "outputs": [
    {
     "name": "stdout",
     "output_type": "stream",
     "text": [
      " 04/04/2019 10:11:35.271 | INFO     | \u001b[1m\u001b[36mChrome\u001b[0m:\u001b[1m\u001b[36m__init__\u001b[0m 〉 Browser instantiated\n",
      " 04/04/2019 10:11:36.083 | INFO     | \u001b[1m\u001b[36mChrome\u001b[0m:\u001b[1m\u001b[36m__exit__\u001b[0m 〉 Destroyed browser\n"
     ]
    }
   ],
   "source": [
    "import os,sys\n",
    "sys.path.append(os.path.abspath(os.getcwd() + \"/../\"))\n",
    "# the above is necessary for the notebook to find the lib dir\n",
    "\n",
    "from wire.browser import *\n",
    "\n",
    "with Chrome() as browser:\n",
    "    browser.get(\"http://google.com\")"
   ]
  }
 ],
 "metadata": {
  "kernelspec": {
   "display_name": "Python 3",
   "language": "python",
   "name": "python3"
  },
  "language_info": {
   "codemirror_mode": {
    "name": "ipython",
    "version": 3
   },
   "file_extension": ".py",
   "mimetype": "text/x-python",
   "name": "python",
   "nbconvert_exporter": "python",
   "pygments_lexer": "ipython3",
   "version": "3.7.2"
  }
 },
 "nbformat": 4,
 "nbformat_minor": 2
}
